{
 "cells": [
  {
   "cell_type": "markdown",
   "id": "9d6ea611",
   "metadata": {},
   "source": [
    "# BINARY CLASSIFICATION\n",
    "\n",
    "##### XGBoost model \n",
    "##### annotation result 0, 1 (binary classification)\n",
    "##### 결측치 mean()\n",
    "##### age, gender 제외한 모든 항목을 feature_importances에 따라 feature weights 부여"
   ]
  },
  {
   "cell_type": "code",
   "execution_count": 201,
   "id": "02ec5ab4",
   "metadata": {},
   "outputs": [],
   "source": [
    "import warnings\n",
    "warnings.filterwarnings('ignore')"
   ]
  },
  {
   "cell_type": "code",
   "execution_count": 202,
   "id": "a8b4919b",
   "metadata": {
    "scrolled": true
   },
   "outputs": [],
   "source": [
    "import numpy as np\n",
    "import pandas as pd\n",
    "import sklearn\n",
    "import matplotlib.pyplot as plt\n",
    "\n",
    "from sklearn.model_selection import train_test_split\n",
    "from sklearn.preprocessing import StandardScaler\n",
    "\n",
    "df = pd.read_csv('judge 제거_LCE.csv')"
   ]
  },
  {
   "cell_type": "markdown",
   "id": "5f07b924",
   "metadata": {},
   "source": [
    "## Preprocessing\n",
    "#### 1. annotation result = 3, Null drop"
   ]
  },
  {
   "cell_type": "code",
   "execution_count": 203,
   "id": "a1c883ba",
   "metadata": {},
   "outputs": [
    {
     "data": {
      "text/plain": [
       "array([1., 0., 2.])"
      ]
     },
     "execution_count": 203,
     "metadata": {},
     "output_type": "execute_result"
    }
   ],
   "source": [
    "# annotation result = 0, 1, 2 만 남기고 확인 \n",
    "\n",
    "null_annot = list(np.where(df['annotation_result'].isna() == True)[0])\n",
    "df = df.drop(null_annot, axis = 'index')\n",
    "df.index = range(len(df))\n",
    "\n",
    "three_annot = list(np.where(df['annotation_result'] == 3)[0])\n",
    "df = df.drop(three_annot, axis = 'index')\n",
    "df.index = range(len(df))\n",
    "\n",
    "df['annotation_result'].unique()"
   ]
  },
  {
   "cell_type": "code",
   "execution_count": 204,
   "id": "6eb4c34c",
   "metadata": {},
   "outputs": [
    {
     "data": {
      "text/plain": [
       "array([0., 1.])"
      ]
     },
     "execution_count": 204,
     "metadata": {},
     "output_type": "execute_result"
    }
   ],
   "source": [
    "zero = list(np.where(df['annotation_result'] == 0)[0])\n",
    "one = list(np.where(df['annotation_result'] == 1)[0])\n",
    "two = list(np.where(df['annotation_result'] == 2)[0])\n",
    "df['annotation_result'][zero] = 0\n",
    "df['annotation_result'][one] = 0\n",
    "df['annotation_result'][two] = 1\n",
    "\n",
    "df['annotation_result'].unique()"
   ]
  },
  {
   "cell_type": "markdown",
   "id": "3ce72817",
   "metadata": {},
   "source": [
    "## 결측치 mean(), train, test split"
   ]
  },
  {
   "cell_type": "code",
   "execution_count": 205,
   "id": "08ab628b",
   "metadata": {},
   "outputs": [],
   "source": [
    "df = df.fillna(df.mean())\n",
    "\n",
    "#최빈값\n",
    "#df = df.fillna(df.mode().iloc[0])\n",
    "#df\n",
    "\n",
    "#중앙값\n",
    "#df = df.fillna(df.median().iloc[0])\n",
    "#df"
   ]
  },
  {
   "cell_type": "code",
   "execution_count": 206,
   "id": "c053ee82",
   "metadata": {},
   "outputs": [
    {
     "name": "stdout",
     "output_type": "stream",
     "text": [
      "Training set:  (1427, 72) (1427,)\n",
      "Test set:  (357, 72) (357,)\n"
     ]
    }
   ],
   "source": [
    "# Select all columns except certain columns\n",
    "X = df.iloc[:,7:]\n",
    "y = np.ravel(df.loc[:, ['annotation_result']])\n",
    "\n",
    "from sklearn.model_selection import train_test_split\n",
    "\n",
    "# Split the dataset into training and test sets\n",
    "X_train, X_test, y_train, y_test = train_test_split(X, y, test_size=0.2, random_state=42)\n",
    "\n",
    "print(\"Training set: \", X_train.shape, y_train.shape)\n",
    "print(\"Test set: \", X_test.shape, y_test.shape)"
   ]
  },
  {
   "cell_type": "markdown",
   "id": "2089f4d5",
   "metadata": {},
   "source": [
    "## Scaler 적용 "
   ]
  },
  {
   "cell_type": "code",
   "execution_count": 207,
   "id": "73974c3b",
   "metadata": {},
   "outputs": [],
   "source": [
    "# 1. Standard Scaler\n",
    "from sklearn.preprocessing import StandardScaler, RobustScaler, scale\n",
    "\n",
    "# Initialize the StandardScaler\n",
    "#standard_scaler = StandardScaler()\n",
    "# Fit the scaler on the training data\n",
    "#standard_scaler.fit(X_train)\n",
    "# Scale the training, validation, and test data using the scaler\n",
    "#X_train_standard = standard_scaler.transform(X_train)\n",
    "#X_val_standard = standard_scaler.transform(X_val)\n",
    "#X_test_standard = standard_scaler.transform(X_test)\n",
    "\n",
    "\n",
    "# 2. Initialize the RobustScaler\n",
    "robust_scaler = RobustScaler()\n",
    "# Scale the training, validation, and test data using the scaler\n",
    "X_train = robust_scaler.fit_transform(X_train)\n",
    "X_test = robust_scaler.transform(X_test)"
   ]
  },
  {
   "cell_type": "markdown",
   "id": "3e27128a",
   "metadata": {},
   "source": [
    "# ORIGINAL model"
   ]
  },
  {
   "cell_type": "code",
   "execution_count": 235,
   "id": "69416bcf",
   "metadata": {
    "scrolled": false
   },
   "outputs": [
    {
     "name": "stdout",
     "output_type": "stream",
     "text": [
      "              precision    recall  f1-score   support\n",
      "\n",
      "         0.0       0.84      0.95      0.89       271\n",
      "         1.0       0.73      0.42      0.53        86\n",
      "\n",
      "    accuracy                           0.82       357\n",
      "   macro avg       0.79      0.69      0.71       357\n",
      "weighted avg       0.81      0.82      0.80       357\n",
      "\n"
     ]
    },
    {
     "data": {
      "text/plain": [
       "Text(0.5, 1.0, 'All + Original model')"
      ]
     },
     "execution_count": 235,
     "metadata": {},
     "output_type": "execute_result"
    },
    {
     "data": {
      "image/png": "[encoded data removed]",
      "text/plain": [
       "<Figure size 640x480 with 2 Axes>"
      ]
     },
     "metadata": {},
     "output_type": "display_data"
    }
   ],
   "source": [
    "model_original = XGBClassifier()\n",
    "model_original.fit(X_train, y_train)\n",
    "\n",
    "y_pred = model_original.predict(X_test)\n",
    "\n",
    "# classification report 출력\n",
    "print(classification_report(y_test, y_pred))\n",
    "\n",
    "# confusion matrix 출력\n",
    "cm = confusion_matrix(y_test, y_pred)\n",
    "sns.heatmap(cm, annot=True, fmt = 'd', cmap='viridis')\n",
    "plt.title(\"All + Original model\")"
   ]
  },
  {
   "cell_type": "markdown",
   "id": "3b9d1ebf",
   "metadata": {},
   "source": [
    "## feature_importances_ 에 따른 weights model"
   ]
  },
  {
   "cell_type": "code",
   "execution_count": 236,
   "id": "80386748",
   "metadata": {},
   "outputs": [
    {
     "name": "stdout",
     "output_type": "stream",
     "text": [
      "              precision    recall  f1-score   support\n",
      "\n",
      "         0.0       0.83      0.94      0.88       271\n",
      "         1.0       0.69      0.38      0.49        86\n",
      "\n",
      "    accuracy                           0.81       357\n",
      "   macro avg       0.76      0.66      0.69       357\n",
      "weighted avg       0.79      0.81      0.79       357\n",
      "\n"
     ]
    },
    {
     "data": {
      "text/plain": [
       "Text(0.5, 1.0, 'All + Weights model')"
      ]
     },
     "execution_count": 236,
     "metadata": {},
     "output_type": "execute_result"
    },
    {
     "data": {
      "image/png": "[encoded data removed]",
      "text/plain": [
       "<Figure size 640x480 with 2 Axes>"
      ]
     },
     "metadata": {},
     "output_type": "display_data"
    }
   ],
   "source": [
    "# feature importance 추출\n",
    "importance = xgb_model.feature_importances_\n",
    "\n",
    "# 가중치 계산\n",
    "weights = np.array([importance[i]/np.sum(importance) for i in range(len(importance))])\n",
    "\n",
    "# 가중치를 이용하여 새로운 feature 생성\n",
    "X_train_weighted = np.multiply(X_train, weights)\n",
    "X_test_weighted = np.multiply(X_test, weights)\n",
    "\n",
    "# 모델 재학습\n",
    "model_weighted = xgb.XGBClassifier()\n",
    "model_weighted.fit(X_train_weighted, y_train)\n",
    "\n",
    "# 평가\n",
    "y_pred_weighted = model_weighted.predict(X_test_weighted)\n",
    "print(classification_report(y_test, y_pred_weighted))\n",
    "\n",
    "# confusion matrix 출력\n",
    "cm = confusion_matrix(y_test, y_pred_weighted)\n",
    "sns.heatmap(cm, annot=True, fmt = 'd', cmap='viridis')\n",
    "plt.title(\"All + Weights model\")"
   ]
  },
  {
   "cell_type": "markdown",
   "id": "aca15e78",
   "metadata": {},
   "source": [
    "## 의학적으로 중요하다고 판단되는 features만 select 후 original"
   ]
  },
  {
   "cell_type": "code",
   "execution_count": 211,
   "id": "98b158e6",
   "metadata": {},
   "outputs": [
    {
     "name": "stdout",
     "output_type": "stream",
     "text": [
      "Training set:  (1427, 36) (1427,)\n",
      "Test set:  (357, 36) (357,)\n"
     ]
    }
   ],
   "source": [
    "# Select all columns except certain columns\n",
    "X_MED = df.loc[:,['H103','X106','X105','X103','X104','X102','T102','L620','L621','T103','L622','L623',\n",
    "              'P006','N817','C408','E512','S469','H105','H121','C102','C110','C104','C119',\n",
    "             'C120','C121','C122','C401','E406','E403','Z977','C153','K087','K086','E427','C404',\n",
    "             'L464']]\n",
    "y_MED = np.ravel(df.loc[:, ['annotation_result']])\n",
    "\n",
    "from sklearn.model_selection import train_test_split\n",
    "\n",
    "# Split the dataset into training and test sets\n",
    "X_train_MED, X_test_MED, y_train_MED, y_test_MED = train_test_split(X_MED, y_MED, test_size=0.2, random_state=42)\n",
    "\n",
    "print(\"Training set: \", X_train_MED.shape, y_train_MED.shape)\n",
    "print(\"Test set: \", X_test_MED.shape, y_test_MED.shape)"
   ]
  },
  {
   "cell_type": "markdown",
   "id": "52c69091",
   "metadata": {},
   "source": [
    "### Scale"
   ]
  },
  {
   "cell_type": "code",
   "execution_count": 212,
   "id": "c1a3358b",
   "metadata": {},
   "outputs": [],
   "source": [
    "# 1. Standard Scaler\n",
    "from sklearn.preprocessing import StandardScaler, RobustScaler, scale\n",
    "\n",
    "# Initialize the StandardScaler\n",
    "#standard_scaler = StandardScaler()\n",
    "# Fit the scaler on the training data\n",
    "#standard_scaler.fit(X_train)\n",
    "# Scale the training, validation, and test data using the scaler\n",
    "#X_train_standard = standard_scaler.transform(X_train)\n",
    "#X_val_standard = standard_scaler.transform(X_val)\n",
    "#X_test_standard = standard_scaler.transform(X_test)\n",
    "\n",
    "\n",
    "# 2. Initialize the RobustScaler\n",
    "robust_scaler = RobustScaler()\n",
    "# Scale the training, validation, and test data using the scaler\n",
    "X_train_MED = robust_scaler.fit_transform(X_train_MED)\n",
    "X_test_MED = robust_scaler.transform(X_test_MED)"
   ]
  },
  {
   "cell_type": "markdown",
   "id": "8e10d0e0",
   "metadata": {},
   "source": [
    "## Med selection + Original model"
   ]
  },
  {
   "cell_type": "code",
   "execution_count": 237,
   "id": "b4a15c85",
   "metadata": {
    "scrolled": true
   },
   "outputs": [
    {
     "name": "stdout",
     "output_type": "stream",
     "text": [
      "              precision    recall  f1-score   support\n",
      "\n",
      "         0.0       0.83      0.95      0.89       271\n",
      "         1.0       0.71      0.40      0.51        86\n",
      "\n",
      "    accuracy                           0.82       357\n",
      "   macro avg       0.77      0.67      0.70       357\n",
      "weighted avg       0.80      0.82      0.79       357\n",
      "\n"
     ]
    },
    {
     "data": {
      "text/plain": [
       "Text(0.5, 1.0, 'Med + Original model')"
      ]
     },
     "execution_count": 237,
     "metadata": {},
     "output_type": "execute_result"
    },
    {
     "data": {
      "image/png": "[encoded data removed]",
      "text/plain": [
       "<Figure size 640x480 with 2 Axes>"
      ]
     },
     "metadata": {},
     "output_type": "display_data"
    }
   ],
   "source": [
    "from sklearn.model_selection import train_test_split\n",
    "\n",
    "xgb_clf = XGBClassifier()\n",
    "xgb_clf.fit(X_train_MED, y_train_MED)\n",
    "\n",
    "y_pred_MED = xgb_clf.predict(X_test_MED)\n",
    "\n",
    "# classification report 출력\n",
    "print(classification_report(y_test_MED, y_pred_MED))\n",
    "\n",
    "# confusion matrix 출력\n",
    "cm = confusion_matrix(y_test_MED, y_pred_MED)\n",
    "sns.heatmap(cm, annot=True, fmt = 'd', cmap='viridis')\n",
    "plt.title(\"Med + Original model\")"
   ]
  },
  {
   "cell_type": "markdown",
   "id": "8d8f9e32",
   "metadata": {},
   "source": [
    "## Med selection + Weights model"
   ]
  },
  {
   "cell_type": "code",
   "execution_count": 238,
   "id": "6e873e86",
   "metadata": {
    "scrolled": false
   },
   "outputs": [
    {
     "name": "stdout",
     "output_type": "stream",
     "text": [
      "              precision    recall  f1-score   support\n",
      "\n",
      "         0.0       0.82      0.93      0.87       271\n",
      "         1.0       0.62      0.35      0.45        86\n",
      "\n",
      "    accuracy                           0.79       357\n",
      "   macro avg       0.72      0.64      0.66       357\n",
      "weighted avg       0.77      0.79      0.77       357\n",
      "\n"
     ]
    },
    {
     "data": {
      "text/plain": [
       "Text(0.5, 1.0, 'Med + Weights model')"
      ]
     },
     "execution_count": 238,
     "metadata": {},
     "output_type": "execute_result"
    },
    {
     "data": {
      "image/png": "[encoded data removed]",
      "text/plain": [
       "<Figure size 640x480 with 2 Axes>"
      ]
     },
     "metadata": {},
     "output_type": "display_data"
    }
   ],
   "source": [
    "# feature importance 추출\n",
    "importance_wm = xgb_clf.feature_importances_\n",
    "\n",
    "# 가중치 계산\n",
    "weights_wm = np.array([importance[i]/np.sum(importance) for i in range(len(importance_wm))])\n",
    "\n",
    "# 가중치를 이용하여 새로운 feature 생성\n",
    "X_train_wm = np.multiply(X_train_MED, weights_wm)\n",
    "X_test_wm = np.multiply(X_test_MED, weights_wm)\n",
    "\n",
    "# 모델 재학습\n",
    "model_wm = xgb.XGBClassifier()\n",
    "model_wm.fit(X_train_wm, y_train_MED)\n",
    "\n",
    "# 평가\n",
    "y_pred_wm = model_wm.predict(X_test_wm)\n",
    "print(classification_report(y_test_MED, y_pred_wm))\n",
    "\n",
    "# confusion matrix 출력\n",
    "cm = confusion_matrix(y_test_MED, y_pred_wm)\n",
    "sns.heatmap(cm, annot=True, fmt = 'd', cmap='viridis')\n",
    "plt.title(\"Med + Weights model\")"
   ]
  }
 ],
 "metadata": {
  "kernelspec": {
   "display_name": "Python 3 (ipykernel)",
   "language": "python",
   "name": "python3"
  },
  "language_info": {
   "codemirror_mode": {
    "name": "ipython",
    "version": 3
   },
   "file_extension": ".py",
   "mimetype": "text/x-python",
   "name": "python",
   "nbconvert_exporter": "python",
   "pygments_lexer": "ipython3",
   "version": "3.9.13"
  }
 },
 "nbformat": 4,
 "nbformat_minor": 5
}
