{
 "cells": [
  {
   "cell_type": "markdown",
   "id": "9d6ea611",
   "metadata": {},
   "source": [
    "# BINARY CLASSIFICATION\n",
    "\n",
    "##### XGBoost model \n",
    "##### annotation result 0, 1 (binary classification)\n",
    "##### 결측치 mean()\n",
    "##### class 비율에 따라 weights 적용"
   ]
  },
  {
   "cell_type": "code",
   "execution_count": 1,
   "id": "02ec5ab4",
   "metadata": {},
   "outputs": [],
   "source": [
    "import warnings\n",
    "warnings.filterwarnings('ignore')"
   ]
  },
  {
   "cell_type": "code",
   "execution_count": 2,
   "id": "a8b4919b",
   "metadata": {
    "scrolled": true
   },
   "outputs": [],
   "source": [
    "import numpy as np\n",
    "import pandas as pd\n",
    "import sklearn\n",
    "import matplotlib.pyplot as plt\n",
    "\n",
    "from sklearn.model_selection import train_test_split\n",
    "from sklearn.preprocessing import StandardScaler\n",
    "\n",
    "df = pd.read_csv('judge 제거_LCE.csv')"
   ]
  },
  {
   "cell_type": "code",
   "execution_count": 25,
   "id": "1ea8be6d",
   "metadata": {
    "scrolled": true
   },
   "outputs": [],
   "source": [
    "#import missingno as msno\n",
    "#msno.bar(df)"
   ]
  },
  {
   "cell_type": "code",
   "execution_count": 12,
   "id": "1cc2da57",
   "metadata": {},
   "outputs": [
    {
     "data": {
      "text/html": [
       "<div>\n",
       "<style scoped>\n",
       "    .dataframe tbody tr th:only-of-type {\n",
       "        vertical-align: middle;\n",
       "    }\n",
       "\n",
       "    .dataframe tbody tr th {\n",
       "        vertical-align: top;\n",
       "    }\n",
       "\n",
       "    .dataframe thead th {\n",
       "        text-align: right;\n",
       "    }\n",
       "</style>\n",
       "<table border=\"1\" class=\"dataframe\">\n",
       "  <thead>\n",
       "    <tr style=\"text-align: right;\">\n",
       "      <th></th>\n",
       "      <th>sample_date</th>\n",
       "      <th>hospital_number_id</th>\n",
       "      <th>hospital_number</th>\n",
       "      <th>annotation</th>\n",
       "      <th>annotation_result</th>\n",
       "      <th>age</th>\n",
       "      <th>gender</th>\n",
       "      <th>N817</th>\n",
       "      <th>T103</th>\n",
       "      <th>H103</th>\n",
       "      <th>...</th>\n",
       "      <th>L464</th>\n",
       "      <th>H129</th>\n",
       "      <th>C203</th>\n",
       "      <th>H102</th>\n",
       "      <th>C180</th>\n",
       "      <th>C159</th>\n",
       "      <th>L620</th>\n",
       "      <th>L621</th>\n",
       "      <th>L622</th>\n",
       "      <th>L623</th>\n",
       "    </tr>\n",
       "  </thead>\n",
       "  <tbody>\n",
       "    <tr>\n",
       "      <th>0</th>\n",
       "      <td>2020.9.16</td>\n",
       "      <td>211</td>\n",
       "      <td>2</td>\n",
       "      <td>0</td>\n",
       "      <td>NaN</td>\n",
       "      <td>20.0</td>\n",
       "      <td>F</td>\n",
       "      <td>NaN</td>\n",
       "      <td>NaN</td>\n",
       "      <td>11310.0</td>\n",
       "      <td>...</td>\n",
       "      <td>NaN</td>\n",
       "      <td>NaN</td>\n",
       "      <td>NaN</td>\n",
       "      <td>4.46</td>\n",
       "      <td>NaN</td>\n",
       "      <td>114.0</td>\n",
       "      <td>NaN</td>\n",
       "      <td>NaN</td>\n",
       "      <td>NaN</td>\n",
       "      <td>NaN</td>\n",
       "    </tr>\n",
       "    <tr>\n",
       "      <th>1</th>\n",
       "      <td>2020.1.3</td>\n",
       "      <td>76</td>\n",
       "      <td>3</td>\n",
       "      <td>0</td>\n",
       "      <td>NaN</td>\n",
       "      <td>18.0</td>\n",
       "      <td>F</td>\n",
       "      <td>2000.0</td>\n",
       "      <td>1872.50</td>\n",
       "      <td>5350.0</td>\n",
       "      <td>...</td>\n",
       "      <td>11.3</td>\n",
       "      <td>NaN</td>\n",
       "      <td>NaN</td>\n",
       "      <td>4.09</td>\n",
       "      <td>NaN</td>\n",
       "      <td>NaN</td>\n",
       "      <td>NaN</td>\n",
       "      <td>NaN</td>\n",
       "      <td>NaN</td>\n",
       "      <td>NaN</td>\n",
       "    </tr>\n",
       "    <tr>\n",
       "      <th>2</th>\n",
       "      <td>2021.8.27</td>\n",
       "      <td>76</td>\n",
       "      <td>3</td>\n",
       "      <td>0</td>\n",
       "      <td>NaN</td>\n",
       "      <td>18.0</td>\n",
       "      <td>F</td>\n",
       "      <td>NaN</td>\n",
       "      <td>1451.57</td>\n",
       "      <td>3830.0</td>\n",
       "      <td>...</td>\n",
       "      <td>NaN</td>\n",
       "      <td>NaN</td>\n",
       "      <td>NaN</td>\n",
       "      <td>3.90</td>\n",
       "      <td>NaN</td>\n",
       "      <td>NaN</td>\n",
       "      <td>NaN</td>\n",
       "      <td>NaN</td>\n",
       "      <td>NaN</td>\n",
       "      <td>NaN</td>\n",
       "    </tr>\n",
       "    <tr>\n",
       "      <th>3</th>\n",
       "      <td>2018.1.8</td>\n",
       "      <td>481</td>\n",
       "      <td>4</td>\n",
       "      <td>0</td>\n",
       "      <td>NaN</td>\n",
       "      <td>NaN</td>\n",
       "      <td>NaN</td>\n",
       "      <td>NaN</td>\n",
       "      <td>2039.18</td>\n",
       "      <td>5980.0</td>\n",
       "      <td>...</td>\n",
       "      <td>NaN</td>\n",
       "      <td>NaN</td>\n",
       "      <td>NaN</td>\n",
       "      <td>4.66</td>\n",
       "      <td>NaN</td>\n",
       "      <td>NaN</td>\n",
       "      <td>NaN</td>\n",
       "      <td>NaN</td>\n",
       "      <td>NaN</td>\n",
       "      <td>NaN</td>\n",
       "    </tr>\n",
       "    <tr>\n",
       "      <th>4</th>\n",
       "      <td>2019.4.16</td>\n",
       "      <td>481</td>\n",
       "      <td>4</td>\n",
       "      <td>1</td>\n",
       "      <td>1.0</td>\n",
       "      <td>NaN</td>\n",
       "      <td>NaN</td>\n",
       "      <td>NaN</td>\n",
       "      <td>2359.84</td>\n",
       "      <td>6860.0</td>\n",
       "      <td>...</td>\n",
       "      <td>25.0</td>\n",
       "      <td>NaN</td>\n",
       "      <td>NaN</td>\n",
       "      <td>4.66</td>\n",
       "      <td>NaN</td>\n",
       "      <td>NaN</td>\n",
       "      <td>1024.17</td>\n",
       "      <td>599.4</td>\n",
       "      <td>NaN</td>\n",
       "      <td>NaN</td>\n",
       "    </tr>\n",
       "    <tr>\n",
       "      <th>...</th>\n",
       "      <td>...</td>\n",
       "      <td>...</td>\n",
       "      <td>...</td>\n",
       "      <td>...</td>\n",
       "      <td>...</td>\n",
       "      <td>...</td>\n",
       "      <td>...</td>\n",
       "      <td>...</td>\n",
       "      <td>...</td>\n",
       "      <td>...</td>\n",
       "      <td>...</td>\n",
       "      <td>...</td>\n",
       "      <td>...</td>\n",
       "      <td>...</td>\n",
       "      <td>...</td>\n",
       "      <td>...</td>\n",
       "      <td>...</td>\n",
       "      <td>...</td>\n",
       "      <td>...</td>\n",
       "      <td>...</td>\n",
       "      <td>...</td>\n",
       "    </tr>\n",
       "    <tr>\n",
       "      <th>2938</th>\n",
       "      <td>2022.8.16</td>\n",
       "      <td>389</td>\n",
       "      <td>1852</td>\n",
       "      <td>0</td>\n",
       "      <td>NaN</td>\n",
       "      <td>51.0</td>\n",
       "      <td>F</td>\n",
       "      <td>NaN</td>\n",
       "      <td>NaN</td>\n",
       "      <td>NaN</td>\n",
       "      <td>...</td>\n",
       "      <td>NaN</td>\n",
       "      <td>NaN</td>\n",
       "      <td>NaN</td>\n",
       "      <td>NaN</td>\n",
       "      <td>NaN</td>\n",
       "      <td>NaN</td>\n",
       "      <td>NaN</td>\n",
       "      <td>NaN</td>\n",
       "      <td>NaN</td>\n",
       "      <td>NaN</td>\n",
       "    </tr>\n",
       "    <tr>\n",
       "      <th>2939</th>\n",
       "      <td>2022.8.9</td>\n",
       "      <td>390</td>\n",
       "      <td>1854</td>\n",
       "      <td>1</td>\n",
       "      <td>2.0</td>\n",
       "      <td>51.0</td>\n",
       "      <td>M</td>\n",
       "      <td>40.0</td>\n",
       "      <td>949.84</td>\n",
       "      <td>3830.0</td>\n",
       "      <td>...</td>\n",
       "      <td>7.9</td>\n",
       "      <td>509.0</td>\n",
       "      <td>8.2</td>\n",
       "      <td>3.71</td>\n",
       "      <td>100.0</td>\n",
       "      <td>28.0</td>\n",
       "      <td>638.00</td>\n",
       "      <td>208.0</td>\n",
       "      <td>51.0</td>\n",
       "      <td>37.0</td>\n",
       "    </tr>\n",
       "    <tr>\n",
       "      <th>2940</th>\n",
       "      <td>2022.8.22</td>\n",
       "      <td>391</td>\n",
       "      <td>1858</td>\n",
       "      <td>0</td>\n",
       "      <td>NaN</td>\n",
       "      <td>69.0</td>\n",
       "      <td>F</td>\n",
       "      <td>NaN</td>\n",
       "      <td>2401.06</td>\n",
       "      <td>5420.0</td>\n",
       "      <td>...</td>\n",
       "      <td>10.4</td>\n",
       "      <td>318.0</td>\n",
       "      <td>11.0</td>\n",
       "      <td>3.61</td>\n",
       "      <td>83.0</td>\n",
       "      <td>78.0</td>\n",
       "      <td>NaN</td>\n",
       "      <td>NaN</td>\n",
       "      <td>NaN</td>\n",
       "      <td>NaN</td>\n",
       "    </tr>\n",
       "    <tr>\n",
       "      <th>2941</th>\n",
       "      <td>2022.8.23</td>\n",
       "      <td>391</td>\n",
       "      <td>1858</td>\n",
       "      <td>0</td>\n",
       "      <td>NaN</td>\n",
       "      <td>69.0</td>\n",
       "      <td>F</td>\n",
       "      <td>40.0</td>\n",
       "      <td>NaN</td>\n",
       "      <td>NaN</td>\n",
       "      <td>...</td>\n",
       "      <td>NaN</td>\n",
       "      <td>NaN</td>\n",
       "      <td>NaN</td>\n",
       "      <td>NaN</td>\n",
       "      <td>NaN</td>\n",
       "      <td>NaN</td>\n",
       "      <td>1208.00</td>\n",
       "      <td>389.0</td>\n",
       "      <td>567.0</td>\n",
       "      <td>118.0</td>\n",
       "    </tr>\n",
       "    <tr>\n",
       "      <th>2942</th>\n",
       "      <td>2022.9.5</td>\n",
       "      <td>392</td>\n",
       "      <td>1863</td>\n",
       "      <td>0</td>\n",
       "      <td>NaN</td>\n",
       "      <td>56.0</td>\n",
       "      <td>F</td>\n",
       "      <td>NaN</td>\n",
       "      <td>1189.16</td>\n",
       "      <td>4340.0</td>\n",
       "      <td>...</td>\n",
       "      <td>11.8</td>\n",
       "      <td>272.0</td>\n",
       "      <td>12.5</td>\n",
       "      <td>3.90</td>\n",
       "      <td>84.0</td>\n",
       "      <td>140.0</td>\n",
       "      <td>NaN</td>\n",
       "      <td>NaN</td>\n",
       "      <td>NaN</td>\n",
       "      <td>NaN</td>\n",
       "    </tr>\n",
       "  </tbody>\n",
       "</table>\n",
       "<p>2943 rows × 77 columns</p>\n",
       "</div>"
      ],
      "text/plain": [
       "     sample_date  hospital_number_id hospital_number  annotation  \\\n",
       "0      2020.9.16                 211               2           0   \n",
       "1       2020.1.3                  76               3           0   \n",
       "2      2021.8.27                  76               3           0   \n",
       "3       2018.1.8                 481               4           0   \n",
       "4      2019.4.16                 481               4           1   \n",
       "...          ...                 ...             ...         ...   \n",
       "2938   2022.8.16                 389            1852           0   \n",
       "2939    2022.8.9                 390            1854           1   \n",
       "2940   2022.8.22                 391            1858           0   \n",
       "2941   2022.8.23                 391            1858           0   \n",
       "2942    2022.9.5                 392            1863           0   \n",
       "\n",
       "      annotation_result   age gender    N817     T103     H103  ...  L464  \\\n",
       "0                   NaN  20.0      F     NaN      NaN  11310.0  ...   NaN   \n",
       "1                   NaN  18.0      F  2000.0  1872.50   5350.0  ...  11.3   \n",
       "2                   NaN  18.0      F     NaN  1451.57   3830.0  ...   NaN   \n",
       "3                   NaN   NaN    NaN     NaN  2039.18   5980.0  ...   NaN   \n",
       "4                   1.0   NaN    NaN     NaN  2359.84   6860.0  ...  25.0   \n",
       "...                 ...   ...    ...     ...      ...      ...  ...   ...   \n",
       "2938                NaN  51.0      F     NaN      NaN      NaN  ...   NaN   \n",
       "2939                2.0  51.0      M    40.0   949.84   3830.0  ...   7.9   \n",
       "2940                NaN  69.0      F     NaN  2401.06   5420.0  ...  10.4   \n",
       "2941                NaN  69.0      F    40.0      NaN      NaN  ...   NaN   \n",
       "2942                NaN  56.0      F     NaN  1189.16   4340.0  ...  11.8   \n",
       "\n",
       "       H129  C203  H102   C180   C159     L620   L621   L622   L623  \n",
       "0       NaN   NaN  4.46    NaN  114.0      NaN    NaN    NaN    NaN  \n",
       "1       NaN   NaN  4.09    NaN    NaN      NaN    NaN    NaN    NaN  \n",
       "2       NaN   NaN  3.90    NaN    NaN      NaN    NaN    NaN    NaN  \n",
       "3       NaN   NaN  4.66    NaN    NaN      NaN    NaN    NaN    NaN  \n",
       "4       NaN   NaN  4.66    NaN    NaN  1024.17  599.4    NaN    NaN  \n",
       "...     ...   ...   ...    ...    ...      ...    ...    ...    ...  \n",
       "2938    NaN   NaN   NaN    NaN    NaN      NaN    NaN    NaN    NaN  \n",
       "2939  509.0   8.2  3.71  100.0   28.0   638.00  208.0   51.0   37.0  \n",
       "2940  318.0  11.0  3.61   83.0   78.0      NaN    NaN    NaN    NaN  \n",
       "2941    NaN   NaN   NaN    NaN    NaN  1208.00  389.0  567.0  118.0  \n",
       "2942  272.0  12.5  3.90   84.0  140.0      NaN    NaN    NaN    NaN  \n",
       "\n",
       "[2943 rows x 77 columns]"
      ]
     },
     "execution_count": 12,
     "metadata": {},
     "output_type": "execute_result"
    }
   ],
   "source": [
    "df = df.dropna(axis=1, thresh=1)\n",
    "df"
   ]
  },
  {
   "cell_type": "markdown",
   "id": "5f07b924",
   "metadata": {},
   "source": [
    "## Preprocessing\n",
    "#### 1. annotation result = 3, Null drop"
   ]
  },
  {
   "cell_type": "code",
   "execution_count": 13,
   "id": "a1c883ba",
   "metadata": {},
   "outputs": [
    {
     "data": {
      "text/plain": [
       "array([1., 0., 2.])"
      ]
     },
     "execution_count": 13,
     "metadata": {},
     "output_type": "execute_result"
    }
   ],
   "source": [
    "# annotation result = 0, 1, 2 만 남기고 확인 \n",
    "\n",
    "null_annot = list(np.where(df['annotation_result'].isna() == True)[0])\n",
    "df = df.drop(null_annot, axis = 'index')\n",
    "df.index = range(len(df))\n",
    "\n",
    "three_annot = list(np.where(df['annotation_result'] == 3)[0])\n",
    "df = df.drop(three_annot, axis = 'index')\n",
    "df.index = range(len(df))\n",
    "\n",
    "df['annotation_result'].unique()"
   ]
  },
  {
   "cell_type": "code",
   "execution_count": 14,
   "id": "6eb4c34c",
   "metadata": {},
   "outputs": [
    {
     "data": {
      "text/plain": [
       "array([0., 1.])"
      ]
     },
     "execution_count": 14,
     "metadata": {},
     "output_type": "execute_result"
    }
   ],
   "source": [
    "zero = list(np.where(df['annotation_result'] == 0)[0])\n",
    "one = list(np.where(df['annotation_result'] == 1)[0])\n",
    "two = list(np.where(df['annotation_result'] == 2)[0])\n",
    "df['annotation_result'][zero] = 0\n",
    "df['annotation_result'][one] = 0\n",
    "df['annotation_result'][two] = 1\n",
    "\n",
    "df['annotation_result'].unique()"
   ]
  },
  {
   "cell_type": "markdown",
   "id": "3ce72817",
   "metadata": {},
   "source": [
    "## 결측치 mean(), train, test split"
   ]
  },
  {
   "cell_type": "code",
   "execution_count": 15,
   "id": "08ab628b",
   "metadata": {},
   "outputs": [],
   "source": [
    "df = df.fillna(df.mean())\n",
    "\n",
    "#최빈값\n",
    "#df = df.fillna(df.mode().iloc[0])\n",
    "#df\n",
    "\n",
    "#중앙값\n",
    "#df = df.fillna(df.median().iloc[0])\n",
    "#df"
   ]
  },
  {
   "cell_type": "code",
   "execution_count": 16,
   "id": "c053ee82",
   "metadata": {},
   "outputs": [
    {
     "name": "stdout",
     "output_type": "stream",
     "text": [
      "Training set:  (1427, 70) (1427,)\n",
      "Test set:  (357, 70) (357,)\n"
     ]
    }
   ],
   "source": [
    "# Select all columns except certain columns\n",
    "X = df.iloc[:,7:]\n",
    "y = np.ravel(df.loc[:, ['annotation_result']])\n",
    "\n",
    "from sklearn.model_selection import train_test_split\n",
    "\n",
    "# Split the dataset into training and test sets\n",
    "X_train, X_test, y_train, y_test = train_test_split(X, y, test_size=0.2, random_state=42)\n",
    "\n",
    "print(\"Training set: \", X_train.shape, y_train.shape)\n",
    "print(\"Test set: \", X_test.shape, y_test.shape)"
   ]
  },
  {
   "cell_type": "markdown",
   "id": "2089f4d5",
   "metadata": {},
   "source": [
    "## Scaler 적용 "
   ]
  },
  {
   "cell_type": "code",
   "execution_count": 17,
   "id": "73974c3b",
   "metadata": {},
   "outputs": [],
   "source": [
    "# 1. Standard Scaler\n",
    "from sklearn.preprocessing import StandardScaler, RobustScaler, scale\n",
    "\n",
    "# Initialize the StandardScaler\n",
    "#standard_scaler = StandardScaler()\n",
    "# Fit the scaler on the training data\n",
    "#standard_scaler.fit(X_train)\n",
    "# Scale the training, validation, and test data using the scaler\n",
    "#X_train_standard = standard_scaler.transform(X_train)\n",
    "#X_val_standard = standard_scaler.transform(X_val)\n",
    "#X_test_standard = standard_scaler.transform(X_test)\n",
    "\n",
    "\n",
    "# 2. Initialize the RobustScaler\n",
    "robust_scaler = RobustScaler()\n",
    "# Scale the training, validation, and test data using the scaler\n",
    "X_train = robust_scaler.fit_transform(X_train)\n",
    "X_test = robust_scaler.transform(X_test)"
   ]
  },
  {
   "cell_type": "markdown",
   "id": "3e27128a",
   "metadata": {},
   "source": [
    "# ORIGINAL model"
   ]
  },
  {
   "cell_type": "code",
   "execution_count": 18,
   "id": "69416bcf",
   "metadata": {
    "scrolled": false
   },
   "outputs": [
    {
     "name": "stdout",
     "output_type": "stream",
     "text": [
      "              precision    recall  f1-score   support\n",
      "\n",
      "         0.0       0.84      0.95      0.89       271\n",
      "         1.0       0.73      0.42      0.53        86\n",
      "\n",
      "    accuracy                           0.82       357\n",
      "   macro avg       0.79      0.69      0.71       357\n",
      "weighted avg       0.81      0.82      0.80       357\n",
      "\n"
     ]
    },
    {
     "data": {
      "text/plain": [
       "Text(0.5, 1.0, 'All + Original model')"
      ]
     },
     "execution_count": 18,
     "metadata": {},
     "output_type": "execute_result"
    },
    {
     "data": {
      "image/png": "[encoded data removed]",
      "text/plain": [
       "<Figure size 640x480 with 2 Axes>"
      ]
     },
     "metadata": {},
     "output_type": "display_data"
    }
   ],
   "source": [
    "from xgboost import XGBClassifier\n",
    "from sklearn.metrics import classification_report, confusion_matrix\n",
    "import seaborn as sns\n",
    "\n",
    "model_original = XGBClassifier()\n",
    "model_original.fit(X_train, y_train)\n",
    "\n",
    "y_pred = model_original.predict(X_test)\n",
    "\n",
    "# classification report 출력\n",
    "print(classification_report(y_test, y_pred))\n",
    "\n",
    "# confusion matrix 출력\n",
    "cm = confusion_matrix(y_test, y_pred)\n",
    "sns.heatmap(cm, annot=True, fmt = 'd', cmap='viridis')\n",
    "plt.title(\"All + Original model\")"
   ]
  },
  {
   "cell_type": "markdown",
   "id": "61c2d885",
   "metadata": {
    "scrolled": true
   },
   "source": [
    "## Class weights model"
   ]
  },
  {
   "cell_type": "code",
   "execution_count": 21,
   "id": "dc84d3a1",
   "metadata": {},
   "outputs": [
    {
     "name": "stdout",
     "output_type": "stream",
     "text": [
      "              precision    recall  f1-score   support\n",
      "\n",
      "         0.0       0.86      0.93      0.89       271\n",
      "         1.0       0.69      0.51      0.59        86\n",
      "\n",
      "    accuracy                           0.83       357\n",
      "   macro avg       0.77      0.72      0.74       357\n",
      "weighted avg       0.82      0.83      0.82       357\n",
      "\n"
     ]
    },
    {
     "data": {
      "text/plain": [
       "Text(0.5, 1.0, 'All + Class weights model')"
      ]
     },
     "execution_count": 21,
     "metadata": {},
     "output_type": "execute_result"
    },
    {
     "data": {
      "image/png": "[encoded data removed]",
      "text/plain": [
       "<Figure size 640x480 with 2 Axes>"
      ]
     },
     "metadata": {},
     "output_type": "display_data"
    }
   ],
   "source": [
    "pos_ratio = sum(y_train == 0) / sum(y_train == 1)\n",
    "\n",
    "# XGBoost 모델 인스턴스화\n",
    "model = XGBClassifier(\n",
    "    objective='binary:logistic',\n",
    "    learning_rate=0.1,\n",
    "    max_depth=6,\n",
    "    min_child_weight=1,\n",
    "    subsample=0.8,\n",
    "    colsample_bytree=0.8,\n",
    "    random_state=42,\n",
    "    n_jobs=-1,\n",
    "    scale_pos_weight = pos_ratio\n",
    ")\n",
    "\n",
    "model.fit(X_train, y_train)\n",
    "\n",
    "y_pred = model.predict(X_test)\n",
    "\n",
    "print(classification_report(y_test, y_pred))\n",
    "\n",
    "cm = confusion_matrix(y_test, y_pred)\n",
    "sns.heatmap(cm, annot=True, fmt = 'd', cmap = 'viridis')\n",
    "plt.title(\"All + Class weights model\")"
   ]
  },
  {
   "cell_type": "markdown",
   "id": "8325a0bc",
   "metadata": {},
   "source": [
    "## 의학적으로 중요하다고 판단되는 features만 selection 후 original"
   ]
  },
  {
   "cell_type": "code",
   "execution_count": 22,
   "id": "5c5b666a",
   "metadata": {},
   "outputs": [
    {
     "name": "stdout",
     "output_type": "stream",
     "text": [
      "Training set:  (1427, 36) (1427,)\n",
      "Test set:  (357, 36) (357,)\n"
     ]
    }
   ],
   "source": [
    "# Select all columns except certain columns\n",
    "X_MED = df.loc[:,['H103','X106','X105','X103','X104','X102','T102','L620','L621','T103','L622','L623',\n",
    "              'P006','N817','C408','E512','S469','H105','H121','C102','C110','C104','C119',\n",
    "             'C120','C121','C122','C401','E406','E403','Z977','C153','K087','K086','E427','C404',\n",
    "             'L464']]\n",
    "y_MED = np.ravel(df.loc[:, ['annotation_result']])\n",
    "\n",
    "from sklearn.model_selection import train_test_split\n",
    "\n",
    "# Split the dataset into training and test sets\n",
    "X_train_MED, X_test_MED, y_train_MED, y_test_MED = train_test_split(X_MED, y_MED, test_size=0.2, random_state=42)\n",
    "\n",
    "print(\"Training set: \", X_train_MED.shape, y_train_MED.shape)\n",
    "print(\"Test set: \", X_test_MED.shape, y_test_MED.shape)"
   ]
  },
  {
   "cell_type": "markdown",
   "id": "a31eb4be",
   "metadata": {},
   "source": [
    "## Scaler"
   ]
  },
  {
   "cell_type": "code",
   "execution_count": 23,
   "id": "1f595ad8",
   "metadata": {},
   "outputs": [],
   "source": [
    "# 1. Standard Scaler\n",
    "from sklearn.preprocessing import StandardScaler, RobustScaler, scale\n",
    "\n",
    "# Initialize the StandardScaler\n",
    "#standard_scaler = StandardScaler()\n",
    "# Fit the scaler on the training data\n",
    "#standard_scaler.fit(X_train)\n",
    "# Scale the training, validation, and test data using the scaler\n",
    "#X_train_standard = standard_scaler.transform(X_train)\n",
    "#X_val_standard = standard_scaler.transform(X_val)\n",
    "#X_test_standard = standard_scaler.transform(X_test)\n",
    "\n",
    "\n",
    "# 2. Initialize the RobustScaler\n",
    "robust_scaler = RobustScaler()\n",
    "# Scale the training, validation, and test data using the scaler\n",
    "X_train_MED = robust_scaler.fit_transform(X_train_MED)\n",
    "X_test_MED = robust_scaler.transform(X_test_MED)"
   ]
  },
  {
   "cell_type": "markdown",
   "id": "22bbba7e",
   "metadata": {},
   "source": [
    "# Med Selection + Class weights model "
   ]
  },
  {
   "cell_type": "code",
   "execution_count": 24,
   "id": "a50629eb",
   "metadata": {},
   "outputs": [
    {
     "name": "stdout",
     "output_type": "stream",
     "text": [
      "              precision    recall  f1-score   support\n",
      "\n",
      "         0.0       0.86      0.92      0.89       271\n",
      "         1.0       0.69      0.53      0.60        86\n",
      "\n",
      "    accuracy                           0.83       357\n",
      "   macro avg       0.77      0.73      0.75       357\n",
      "weighted avg       0.82      0.83      0.82       357\n",
      "\n"
     ]
    },
    {
     "data": {
      "text/plain": [
       "Text(0.5, 1.0, 'MED + Class weights model')"
      ]
     },
     "execution_count": 24,
     "metadata": {},
     "output_type": "execute_result"
    },
    {
     "data": {
      "image/png": "[encoded data removed]",
      "text/plain": [
       "<Figure size 640x480 with 2 Axes>"
      ]
     },
     "metadata": {},
     "output_type": "display_data"
    }
   ],
   "source": [
    "pos_ratio = sum(y_train_MED == 0) / sum(y_train_MED == 1)\n",
    "\n",
    "# XGBoost 모델 인스턴스화\n",
    "model_MED = XGBClassifier(\n",
    "    objective='binary:logistic',\n",
    "    learning_rate=0.1,\n",
    "    max_depth=6,\n",
    "    min_child_weight=1,\n",
    "    subsample=0.8,\n",
    "    colsample_bytree=0.8,\n",
    "    random_state=42,\n",
    "    n_jobs=-1,\n",
    "    scale_pos_weight = pos_ratio\n",
    ")\n",
    "\n",
    "# 모델 학습 시 class_weight에 class_weights를 전달\n",
    "model_MED.fit(X_train_MED, y_train_MED)\n",
    "\n",
    "y_pred_MED = model_MED.predict(X_test_MED)\n",
    "\n",
    "print(classification_report(y_test_MED, y_pred_MED))\n",
    "\n",
    "cm = confusion_matrix(y_test_MED, y_pred_MED)\n",
    "sns.heatmap(cm, annot=True, fmt = 'd', cmap = 'viridis')\n",
    "plt.title(\"MED + Class weights model\")"
   ]
  }
 ],
 "metadata": {
  "kernelspec": {
   "display_name": "Python 3 (ipykernel)",
   "language": "python",
   "name": "python3"
  },
  "language_info": {
   "codemirror_mode": {
    "name": "ipython",
    "version": 3
   },
   "file_extension": ".py",
   "mimetype": "text/x-python",
   "name": "python",
   "nbconvert_exporter": "python",
   "pygments_lexer": "ipython3",
   "version": "3.9.13"
  }
 },
 "nbformat": 4,
 "nbformat_minor": 5
}
